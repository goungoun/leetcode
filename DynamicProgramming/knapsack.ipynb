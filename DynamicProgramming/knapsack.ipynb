{
 "cells": [
  {
   "cell_type": "markdown",
   "id": "cc514702",
   "metadata": {},
   "source": [
    "# 0/1 Knapsack problem\n",
    "\n",
    "Referenced an explanation by Tushar Roy: <br>\n",
    "https://www.youtube.com/watch?v=8LusJS5-AGo&list=PLrmLmBdmIlpsHaNTPP_jHHDx_os9ItYXr&index=2"
   ]
  },
  {
   "cell_type": "code",
   "execution_count": 1,
   "id": "6ec4100c",
   "metadata": {},
   "outputs": [
    {
     "name": "stdout",
     "output_type": "stream",
     "text": [
      "[[0 0 0 0 0 0 0 0]\n",
      " [0 0 0 0 0 0 0 0]\n",
      " [0 0 0 0 0 0 0 0]\n",
      " [0 0 0 0 0 0 0 0]]\n"
     ]
    }
   ],
   "source": [
    "import numpy as np\n",
    "\n",
    "n_items = 4\n",
    "values = [1,4,5,7]\n",
    "weights = [1,3,4,5]\n",
    "items = list(zip(weights, values))\n",
    "weight_limit = 7\n",
    "\n",
    "T = [[0] * (weight_limit+1) for _ in range(n_items)]\n",
    "    \n",
    "print(np.array(T))"
   ]
  },
  {
   "cell_type": "code",
   "execution_count": 2,
   "id": "2b74d732",
   "metadata": {},
   "outputs": [
    {
     "name": "stdout",
     "output_type": "stream",
     "text": [
      "[[0 1 1 1 1 1 1 1]\n",
      " [0 0 0 0 0 0 0 0]\n",
      " [0 0 0 0 0 0 0 0]\n",
      " [0 0 0 0 0 0 0 0]]\n"
     ]
    }
   ],
   "source": [
    "for curr_limit in range(weight_limit + 1):\n",
    "    if weights[0] <= curr_limit:\n",
    "        T[0][curr_limit] = values[0]\n",
    "\n",
    "print(np.array(T))"
   ]
  },
  {
   "cell_type": "code",
   "execution_count": 3,
   "id": "88211bc6",
   "metadata": {},
   "outputs": [
    {
     "name": "stdout",
     "output_type": "stream",
     "text": [
      "[[0 1 1 1 1 1 1 1]\n",
      " [0 1 1 4 5 5 5 5]\n",
      " [0 1 1 4 5 6 6 9]\n",
      " [0 1 1 4 5 7 8 9]]\n"
     ]
    }
   ],
   "source": [
    "for r in range(1,n_items):\n",
    "    for c in range(1, weight_limit + 1):\n",
    "        add = values[r] + T[r-1][c - weights[r]] if c >= weights[r] else 0\n",
    "        or_not = T[r-1][c]\n",
    "        T[r][c] = max(add, or_not)\n",
    "    \n",
    "print(np.array(T))"
   ]
  }
 ],
 "metadata": {
  "kernelspec": {
   "display_name": "Python 3 (ipykernel)",
   "language": "python",
   "name": "python3"
  },
  "language_info": {
   "codemirror_mode": {
    "name": "ipython",
    "version": 3
   },
   "file_extension": ".py",
   "mimetype": "text/x-python",
   "name": "python",
   "nbconvert_exporter": "python",
   "pygments_lexer": "ipython3",
   "version": "3.11.3"
  }
 },
 "nbformat": 4,
 "nbformat_minor": 5
}
